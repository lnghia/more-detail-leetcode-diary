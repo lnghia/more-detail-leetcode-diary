{
  "nbformat": 4,
  "nbformat_minor": 0,
  "metadata": {
    "colab": {
      "name": "Search in Rotated Sorted Array.ipynb",
      "provenance": [],
      "collapsed_sections": []
    },
    "kernelspec": {
      "name": "python3",
      "display_name": "Python 3"
    },
    "language_info": {
      "name": "python"
    }
  },
  "cells": [
    {
      "cell_type": "markdown",
      "source": [
        "# **[Search in Rotated Sorted Array](https://leetcode.com/problems/search-in-rotated-sorted-array/)**\n",
        "\n",
        "\n",
        "There is an integer array nums sorted in ascending order (with distinct values).\n",
        "\n",
        "Prior to being passed to your function, nums is possibly rotated at an unknown pivot index k (1 <= k < nums.length) such that the resulting array is ```[nums[k], nums[k+1], ..., nums[n-1], nums[0], nums[1], ..., nums[k-1]]``` (0-indexed). For example, ```[0,1,2,4,5,6,7]``` might be rotated at pivot index ```3``` and become ```[4,5,6,7,0,1,2]```.\n",
        "\n",
        "Given the array nums after the possible rotation and an integer target, return the index of target if it is in nums, or -1 if it is not in nums.\n",
        "\n",
        "You must write an algorithm with O($\\log n$) runtime complexity.\n",
        "\n",
        "\n",
        "\n"
      ],
      "metadata": {
        "id": "pid62tU-18kC"
      }
    },
    {
      "cell_type": "markdown",
      "source": [
        "## 1. Abstraction\n",
        "\n",
        "Given an array which is already sorted ascending order (with distinct values). However, the array is rotated at an unknown pivot index. Try to find the index of a given target number in the array.\n",
        "\n",
        "## 2. Decompostion\n",
        "\n",
        "- Find the rotation point.\n",
        "- Apply binary search on each half of the array separated by the rotation point.\n",
        "\n",
        "## 3. Algorithm Design\n",
        "\n",
        "As requested in the statement. We must write a search algorithm that runs in O($\\log n$) time complexity. That reminds us of binary search. However, as we know binary search only works with sorted array, and the given array is already rotated at an ```unknown``` index, so we've gotta find a way to deal with the rotation. If we sort the array again, that's not gonna work because sort algorithm takes up to O(n $\\log n$) in time complexity. A possible solution for this problem is to divide the array into two halves seperated at the rotation point (index). Then we can run binary search on each half of the array to find target number. But how do we find the rotation point. Well, we can find the rotation point by modifying the binary search algorithm a little bit, another way is to take advantage of the divide and conquer idea and come up with an algorithm in which we check for the position ```i``` where ```nums[i] > nums[i + 1]``` or ```nums[i] < nums[i - 1]```.  \n",
        "\n",
        "## 4. Implementation\n"
      ],
      "metadata": {
        "id": "bpaXnVDt5FIS"
      }
    },
    {
      "cell_type": "markdown",
      "source": [
        "### Binary search modification"
      ],
      "metadata": {
        "id": "_-37uTVx9jT2"
      }
    },
    {
      "cell_type": "code",
      "source": [
        "int moreOptimalBoundarySearch(vector<int>& nums) {\n",
        "    int left = 0;\n",
        "    int right = nums.size() - 1;\n",
        "    int mid;\n",
        "        \n",
        "    while (left <= right) {\n",
        "        mid = left + (right - left) / 2;\n",
        "            \n",
        "        if(mid == nums.size() - 1 || nums[mid] > nums[mid + 1]){\n",
        "            return mid;\n",
        "        } else if(nums[left] > nums[mid]) {\n",
        "            right = mid - 1;\n",
        "        } else {\n",
        "            left = mid + 1;\n",
        "        }\n",
        "    }\n",
        "        \n",
        "    return -1;\n",
        "}\n",
        "\n",
        "int solve(vector<int>& nums, int target) {\n",
        "    if(nums.size() == 1) {\n",
        "        return nums[0] == target ? 0 : -1;\n",
        "    }\n",
        "    if(nums.size() < 1) {\n",
        "        return -1;\n",
        "    }\n",
        "        \n",
        "    int boundaryPos = moreOptimalBoundarySearch(nums);\n",
        "        \n",
        "    vector<int>::iterator iteratorInFirstPart = lower_bound(nums.begin(), nums.begin() + boundaryPos, target);\n",
        "    vector<int>::iterator iteratorInSecondPart = lower_bound(nums.begin() + boundaryPos + 1, nums.end(), target);\n",
        "        \n",
        "    if(iteratorInFirstPart != nums.end() && *iteratorInFirstPart == target) return iteratorInFirstPart - nums.begin();\n",
        "    if(iteratorInSecondPart != nums.end() && *iteratorInSecondPart == target) return iteratorInSecondPart - nums.begin();\n",
        "        \n",
        "    return -1;\n",
        "        \n",
        "}"
      ],
      "metadata": {
        "id": "2wM6mFW39tiT"
      },
      "execution_count": null,
      "outputs": []
    },
    {
      "cell_type": "markdown",
      "source": [
        "### Divide and conquer strategy"
      ],
      "metadata": {
        "id": "ok5qeVsN9zhB"
      }
    },
    {
      "cell_type": "code",
      "source": [
        "int searchBoundary(vector<int>& nums, int left, int right) {\n",
        "    if(left < right) {\n",
        "        int mid = left + (right - left ) / 2;\n",
        "            \n",
        "        if(mid + 1 <= nums.size() - 1 && nums[mid] > nums[mid + 1]) {\n",
        "            return mid;\n",
        "        } else if(mid - 1 >= 0 && nums[mid] < nums[mid - 1]) {\n",
        "            return mid - 1;\n",
        "        } else {\n",
        "            int leftHalf = searchBoundary(nums, left, mid);\n",
        "            int rightHalf = searchBoundary(nums, mid + 1, right);\n",
        "                \n",
        "            return leftHalf != -1 ? leftHalf : rightHalf; \n",
        "        }\n",
        "    }\n",
        "        \n",
        "    return -1;\n",
        "}\n",
        "\n",
        "int solve(vector<int>& nums, int target) {\n",
        "    if(nums.size() == 1) {\n",
        "        return nums[0] == target ? 0 : -1;\n",
        "    }\n",
        "    if(nums.size() < 1) {\n",
        "        return -1;\n",
        "    }\n",
        "        \n",
        "    int boundaryPos = searchBoundary(nums, 0, nums.size() - 1);\n",
        "        \n",
        "    vector<int>::iterator iteratorInFirstPart = lower_bound(nums.begin(), nums.begin() + boundaryPos, target);\n",
        "    vector<int>::iterator iteratorInSecondPart = lower_bound(nums.begin() + boundaryPos + 1, nums.end(), target);\n",
        "        \n",
        "    if(iteratorInFirstPart != nums.end() && *iteratorInFirstPart == target) return iteratorInFirstPart - nums.begin();\n",
        "    if(iteratorInSecondPart != nums.end() && *iteratorInSecondPart == target) return iteratorInSecondPart - nums.begin();\n",
        "        \n",
        "    return -1;\n",
        "        \n",
        "}"
      ],
      "metadata": {
        "id": "ilTadulV9-U8"
      },
      "execution_count": null,
      "outputs": []
    }
  ]
}